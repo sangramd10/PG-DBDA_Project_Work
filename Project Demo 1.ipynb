{
 "cells": [
  {
   "cell_type": "code",
   "execution_count": 1,
   "id": "7f8370a5",
   "metadata": {},
   "outputs": [],
   "source": [
    "import numpy as np\n",
    "import pandas as pd\n",
    "import matplotlib.pyplot as plt\n",
    "import seaborn as sns\n",
    "from wordcloud import WordCloud\n",
    "plt.rcParams['figure.figsize'] = [6,6]\n",
    "sns.set_theme(style=\"darkgrid\")\n",
    "%matplotlib inline\n",
    "\n",
    "import nltk\n",
    "from nltk import sent_tokenize\n",
    "from nltk.corpus import stopwords\n",
    "stopwords = nltk.corpus.stopwords.words('english')\n",
    "from nltk.tokenize import word_tokenize\n",
    "\n",
    "import contractions\n",
    "import re\n",
    "import itertools\n",
    "import datetime\n",
    "import time\n",
    "from collections import Counter\n",
    "import string\n",
    "\n",
    "import warnings\n",
    "warnings.filterwarnings('ignore')\n",
    "\n",
    "from sklearn.model_selection import train_test_split\n",
    "from sklearn.metrics import precision_score, recall_score, f1_score, accuracy_score\n",
    "\n",
    "import tensorflow as tf\n",
    "import tensorflow.keras as keras\n",
    "from tensorflow.keras.preprocessing.text import Tokenizer\n",
    "from tensorflow.keras.preprocessing.sequence import pad_sequences\n",
    "from tensorflow.keras.models import Sequential\n",
    "from tensorflow.keras.layers import LSTM\n",
    "from tensorflow.keras.layers import Dense\n",
    "from tensorflow.keras.layers import Dropout\n",
    "from tensorflow.keras.layers import Embedding\n",
    "from keras.layers import Flatten\n",
    "\n",
    "from sklearn.feature_extraction.text import TfidfTransformer\n",
    "from sklearn.feature_extraction.text import CountVectorizer\n",
    "from sklearn.naive_bayes import MultinomialNB\n",
    "from sklearn.linear_model import LogisticRegression\n",
    "from sklearn.ensemble import RandomForestClassifier, GradientBoostingClassifier, AdaBoostClassifier\n",
    "from sklearn.tree import DecisionTreeClassifier\n",
    "from sklearn.metrics import precision_score, recall_score, f1_score, accuracy_score\n",
    "from sklearn.model_selection import GridSearchCV"
   ]
  },
  {
   "cell_type": "markdown",
   "id": "293ab9f1",
   "metadata": {},
   "source": [
    "Thisis a dataset of 72,134 news articles with 35,028 real and 37,106 fake news. For this, authors merged four popular news datasets (i.e. Kaggle, McIntire, Reuters, BuzzFeed Political) to prevent over-fitting of classifiers and to provide more text data for better ML training.\n",
    "\n",
    "Dataset contains four columns: Serial number (starting from 0); Title (about the text news heading); Text (about the news content); and Label (0 = fake and 1 = real).\n",
    "\n",
    "There are 78098 data entries in csv file out of which only 72134 entries are accessed as per the data frame"
   ]
  },
  {
   "cell_type": "code",
   "execution_count": 2,
   "id": "5f41530e",
   "metadata": {},
   "outputs": [
    {
     "data": {
      "text/html": [
       "<div>\n",
       "<style scoped>\n",
       "    .dataframe tbody tr th:only-of-type {\n",
       "        vertical-align: middle;\n",
       "    }\n",
       "\n",
       "    .dataframe tbody tr th {\n",
       "        vertical-align: top;\n",
       "    }\n",
       "\n",
       "    .dataframe thead th {\n",
       "        text-align: right;\n",
       "    }\n",
       "</style>\n",
       "<table border=\"1\" class=\"dataframe\">\n",
       "  <thead>\n",
       "    <tr style=\"text-align: right;\">\n",
       "      <th></th>\n",
       "      <th>Unnamed: 0</th>\n",
       "      <th>title</th>\n",
       "      <th>text</th>\n",
       "      <th>label</th>\n",
       "    </tr>\n",
       "  </thead>\n",
       "  <tbody>\n",
       "    <tr>\n",
       "      <th>0</th>\n",
       "      <td>0</td>\n",
       "      <td>LAW ENFORCEMENT ON HIGH ALERT Following Threat...</td>\n",
       "      <td>No comment is expected from Barack Obama Membe...</td>\n",
       "      <td>1</td>\n",
       "    </tr>\n",
       "    <tr>\n",
       "      <th>1</th>\n",
       "      <td>1</td>\n",
       "      <td>NaN</td>\n",
       "      <td>Did they post their votes for Hillary already?</td>\n",
       "      <td>1</td>\n",
       "    </tr>\n",
       "    <tr>\n",
       "      <th>2</th>\n",
       "      <td>2</td>\n",
       "      <td>UNBELIEVABLE! OBAMA’S ATTORNEY GENERAL SAYS MO...</td>\n",
       "      <td>Now, most of the demonstrators gathered last ...</td>\n",
       "      <td>1</td>\n",
       "    </tr>\n",
       "    <tr>\n",
       "      <th>3</th>\n",
       "      <td>3</td>\n",
       "      <td>Bobby Jindal, raised Hindu, uses story of Chri...</td>\n",
       "      <td>A dozen politically active pastors came here f...</td>\n",
       "      <td>0</td>\n",
       "    </tr>\n",
       "    <tr>\n",
       "      <th>4</th>\n",
       "      <td>4</td>\n",
       "      <td>SATAN 2: Russia unvelis an image of its terrif...</td>\n",
       "      <td>The RS-28 Sarmat missile, dubbed Satan 2, will...</td>\n",
       "      <td>1</td>\n",
       "    </tr>\n",
       "    <tr>\n",
       "      <th>...</th>\n",
       "      <td>...</td>\n",
       "      <td>...</td>\n",
       "      <td>...</td>\n",
       "      <td>...</td>\n",
       "    </tr>\n",
       "    <tr>\n",
       "      <th>72129</th>\n",
       "      <td>72129</td>\n",
       "      <td>Russians steal research on Trump in hack of U....</td>\n",
       "      <td>WASHINGTON (Reuters) - Hackers believed to be ...</td>\n",
       "      <td>0</td>\n",
       "    </tr>\n",
       "    <tr>\n",
       "      <th>72130</th>\n",
       "      <td>72130</td>\n",
       "      <td>WATCH: Giuliani Demands That Democrats Apolog...</td>\n",
       "      <td>You know, because in fantasyland Republicans n...</td>\n",
       "      <td>1</td>\n",
       "    </tr>\n",
       "    <tr>\n",
       "      <th>72131</th>\n",
       "      <td>72131</td>\n",
       "      <td>Migrants Refuse To Leave Train At Refugee Camp...</td>\n",
       "      <td>Migrants Refuse To Leave Train At Refugee Camp...</td>\n",
       "      <td>0</td>\n",
       "    </tr>\n",
       "    <tr>\n",
       "      <th>72132</th>\n",
       "      <td>72132</td>\n",
       "      <td>Trump tussle gives unpopular Mexican leader mu...</td>\n",
       "      <td>MEXICO CITY (Reuters) - Donald Trump’s combati...</td>\n",
       "      <td>0</td>\n",
       "    </tr>\n",
       "    <tr>\n",
       "      <th>72133</th>\n",
       "      <td>72133</td>\n",
       "      <td>Goldman Sachs Endorses Hillary Clinton For Pre...</td>\n",
       "      <td>Goldman Sachs Endorses Hillary Clinton For Pre...</td>\n",
       "      <td>1</td>\n",
       "    </tr>\n",
       "  </tbody>\n",
       "</table>\n",
       "<p>72134 rows × 4 columns</p>\n",
       "</div>"
      ],
      "text/plain": [
       "       Unnamed: 0                                              title  \\\n",
       "0               0  LAW ENFORCEMENT ON HIGH ALERT Following Threat...   \n",
       "1               1                                                NaN   \n",
       "2               2  UNBELIEVABLE! OBAMA’S ATTORNEY GENERAL SAYS MO...   \n",
       "3               3  Bobby Jindal, raised Hindu, uses story of Chri...   \n",
       "4               4  SATAN 2: Russia unvelis an image of its terrif...   \n",
       "...           ...                                                ...   \n",
       "72129       72129  Russians steal research on Trump in hack of U....   \n",
       "72130       72130   WATCH: Giuliani Demands That Democrats Apolog...   \n",
       "72131       72131  Migrants Refuse To Leave Train At Refugee Camp...   \n",
       "72132       72132  Trump tussle gives unpopular Mexican leader mu...   \n",
       "72133       72133  Goldman Sachs Endorses Hillary Clinton For Pre...   \n",
       "\n",
       "                                                    text  label  \n",
       "0      No comment is expected from Barack Obama Membe...      1  \n",
       "1         Did they post their votes for Hillary already?      1  \n",
       "2       Now, most of the demonstrators gathered last ...      1  \n",
       "3      A dozen politically active pastors came here f...      0  \n",
       "4      The RS-28 Sarmat missile, dubbed Satan 2, will...      1  \n",
       "...                                                  ...    ...  \n",
       "72129  WASHINGTON (Reuters) - Hackers believed to be ...      0  \n",
       "72130  You know, because in fantasyland Republicans n...      1  \n",
       "72131  Migrants Refuse To Leave Train At Refugee Camp...      0  \n",
       "72132  MEXICO CITY (Reuters) - Donald Trump’s combati...      0  \n",
       "72133  Goldman Sachs Endorses Hillary Clinton For Pre...      1  \n",
       "\n",
       "[72134 rows x 4 columns]"
      ]
     },
     "execution_count": 2,
     "metadata": {},
     "output_type": "execute_result"
    }
   ],
   "source": [
    "#Loading the Dataset\n",
    "df = pd.read_csv(\"WELFake_Dataset.csv\")\n",
    "df"
   ]
  },
  {
   "cell_type": "code",
   "execution_count": 3,
   "id": "0937d800",
   "metadata": {},
   "outputs": [
    {
     "data": {
      "text/plain": [
       "(72134, 4)"
      ]
     },
     "execution_count": 3,
     "metadata": {},
     "output_type": "execute_result"
    }
   ],
   "source": [
    "#checking shape of Dataset\n",
    "df.shape"
   ]
  },
  {
   "cell_type": "code",
   "execution_count": 4,
   "id": "ef113d67",
   "metadata": {},
   "outputs": [
    {
     "data": {
      "text/plain": [
       "Unnamed: 0      0\n",
       "title         558\n",
       "text           39\n",
       "label           0\n",
       "dtype: int64"
      ]
     },
     "execution_count": 4,
     "metadata": {},
     "output_type": "execute_result"
    }
   ],
   "source": [
    "#checking for Null values\n",
    "df.isna().sum()"
   ]
  },
  {
   "cell_type": "code",
   "execution_count": 5,
   "id": "7f488b67",
   "metadata": {},
   "outputs": [
    {
     "name": "stdout",
     "output_type": "stream",
     "text": [
      "<class 'pandas.core.frame.DataFrame'>\n",
      "RangeIndex: 72134 entries, 0 to 72133\n",
      "Data columns (total 4 columns):\n",
      " #   Column      Non-Null Count  Dtype \n",
      "---  ------      --------------  ----- \n",
      " 0   Unnamed: 0  72134 non-null  int64 \n",
      " 1   title       71576 non-null  object\n",
      " 2   text        72095 non-null  object\n",
      " 3   label       72134 non-null  int64 \n",
      "dtypes: int64(2), object(2)\n",
      "memory usage: 2.2+ MB\n"
     ]
    }
   ],
   "source": [
    "df.info()"
   ]
  },
  {
   "cell_type": "code",
   "execution_count": 6,
   "id": "5448cb86",
   "metadata": {},
   "outputs": [],
   "source": [
    "#droping the Unnamed: 0 column\n",
    "df.drop(\"Unnamed: 0\",axis=1,inplace=True)"
   ]
  },
  {
   "cell_type": "code",
   "execution_count": 7,
   "id": "b26ce869",
   "metadata": {},
   "outputs": [
    {
     "data": {
      "image/png": "[encoded data removed]",
      "text/plain": [
       "<Figure size 600x600 with 1 Axes>"
      ]
     },
     "metadata": {},
     "output_type": "display_data"
    }
   ],
   "source": [
    "#ploting the count of Fake and Genuine news\n",
    "sns.countplot(x='label', data=df, palette='Set3')\n",
    "plt.title(\"Number of Fake and Genuine News before dropping missing values\")\n",
    "plt.show()"
   ]
  },
  {
   "cell_type": "code",
   "execution_count": 8,
   "id": "cf00fdd8",
   "metadata": {},
   "outputs": [],
   "source": [
    "#droping Null values\n",
    "df.dropna(axis=0, how='any',inplace=True)"
   ]
  },
  {
   "cell_type": "code",
   "execution_count": 9,
   "id": "e71c207d",
   "metadata": {},
   "outputs": [
    {
     "data": {
      "text/plain": [
       "title    0\n",
       "text     0\n",
       "label    0\n",
       "dtype: int64"
      ]
     },
     "execution_count": 9,
     "metadata": {},
     "output_type": "execute_result"
    }
   ],
   "source": [
    "#checking Null values\n",
    "df.isna().sum()"
   ]
  },
  {
   "cell_type": "code",
   "execution_count": 10,
   "id": "16f1eeff",
   "metadata": {},
   "outputs": [
    {
     "data": {
      "image/png": "[encoded data removed]",
      "text/plain": [
       "<Figure size 600x600 with 1 Axes>"
      ]
     },
     "metadata": {},
     "output_type": "display_data"
    }
   ],
   "source": [
    "#ploting the count of Fake and Genuine news\n",
    "sns.countplot(x='label', data=df, palette='Set3')\n",
    "plt.title(\"Number of Fake and Genuine News after dropping missing values\")\n",
    "plt.show()"
   ]
  },
  {
   "cell_type": "code",
   "execution_count": 11,
   "id": "25bdd0c9",
   "metadata": {},
   "outputs": [],
   "source": [
    "#creating new column with length of text\n",
    "df['raw_text_length'] = df['text'].apply(lambda x: len(x))"
   ]
  },
  {
   "cell_type": "code",
   "execution_count": 12,
   "id": "30873757",
   "metadata": {},
   "outputs": [
    {
     "data": {
      "text/html": [
       "<div>\n",
       "<style scoped>\n",
       "    .dataframe tbody tr th:only-of-type {\n",
       "        vertical-align: middle;\n",
       "    }\n",
       "\n",
       "    .dataframe tbody tr th {\n",
       "        vertical-align: top;\n",
       "    }\n",
       "\n",
       "    .dataframe thead th {\n",
       "        text-align: right;\n",
       "    }\n",
       "</style>\n",
       "<table border=\"1\" class=\"dataframe\">\n",
       "  <thead>\n",
       "    <tr style=\"text-align: right;\">\n",
       "      <th></th>\n",
       "      <th>title</th>\n",
       "      <th>text</th>\n",
       "      <th>label</th>\n",
       "      <th>raw_text_length</th>\n",
       "    </tr>\n",
       "  </thead>\n",
       "  <tbody>\n",
       "    <tr>\n",
       "      <th>0</th>\n",
       "      <td>LAW ENFORCEMENT ON HIGH ALERT Following Threat...</td>\n",
       "      <td>No comment is expected from Barack Obama Membe...</td>\n",
       "      <td>1</td>\n",
       "      <td>5049</td>\n",
       "    </tr>\n",
       "    <tr>\n",
       "      <th>2</th>\n",
       "      <td>UNBELIEVABLE! OBAMA’S ATTORNEY GENERAL SAYS MO...</td>\n",
       "      <td>Now, most of the demonstrators gathered last ...</td>\n",
       "      <td>1</td>\n",
       "      <td>216</td>\n",
       "    </tr>\n",
       "    <tr>\n",
       "      <th>3</th>\n",
       "      <td>Bobby Jindal, raised Hindu, uses story of Chri...</td>\n",
       "      <td>A dozen politically active pastors came here f...</td>\n",
       "      <td>0</td>\n",
       "      <td>8010</td>\n",
       "    </tr>\n",
       "    <tr>\n",
       "      <th>4</th>\n",
       "      <td>SATAN 2: Russia unvelis an image of its terrif...</td>\n",
       "      <td>The RS-28 Sarmat missile, dubbed Satan 2, will...</td>\n",
       "      <td>1</td>\n",
       "      <td>1916</td>\n",
       "    </tr>\n",
       "    <tr>\n",
       "      <th>5</th>\n",
       "      <td>About Time! Christian Group Sues Amazon and SP...</td>\n",
       "      <td>All we can say on this one is it s about time ...</td>\n",
       "      <td>1</td>\n",
       "      <td>1530</td>\n",
       "    </tr>\n",
       "  </tbody>\n",
       "</table>\n",
       "</div>"
      ],
      "text/plain": [
       "                                               title  \\\n",
       "0  LAW ENFORCEMENT ON HIGH ALERT Following Threat...   \n",
       "2  UNBELIEVABLE! OBAMA’S ATTORNEY GENERAL SAYS MO...   \n",
       "3  Bobby Jindal, raised Hindu, uses story of Chri...   \n",
       "4  SATAN 2: Russia unvelis an image of its terrif...   \n",
       "5  About Time! Christian Group Sues Amazon and SP...   \n",
       "\n",
       "                                                text  label  raw_text_length  \n",
       "0  No comment is expected from Barack Obama Membe...      1             5049  \n",
       "2   Now, most of the demonstrators gathered last ...      1              216  \n",
       "3  A dozen politically active pastors came here f...      0             8010  \n",
       "4  The RS-28 Sarmat missile, dubbed Satan 2, will...      1             1916  \n",
       "5  All we can say on this one is it s about time ...      1             1530  "
      ]
     },
     "execution_count": 12,
     "metadata": {},
     "output_type": "execute_result"
    }
   ],
   "source": [
    "df.head()"
   ]
  },
  {
   "cell_type": "code",
   "execution_count": 13,
   "id": "b852c418",
   "metadata": {},
   "outputs": [
    {
     "data": {
      "text/html": [
       "<div>\n",
       "<style scoped>\n",
       "    .dataframe tbody tr th:only-of-type {\n",
       "        vertical-align: middle;\n",
       "    }\n",
       "\n",
       "    .dataframe tbody tr th {\n",
       "        vertical-align: top;\n",
       "    }\n",
       "\n",
       "    .dataframe thead th {\n",
       "        text-align: right;\n",
       "    }\n",
       "</style>\n",
       "<table border=\"1\" class=\"dataframe\">\n",
       "  <thead>\n",
       "    <tr style=\"text-align: right;\">\n",
       "      <th></th>\n",
       "      <th>label</th>\n",
       "      <th>raw_text_length</th>\n",
       "    </tr>\n",
       "  </thead>\n",
       "  <tbody>\n",
       "    <tr>\n",
       "      <th>count</th>\n",
       "      <td>71537.000000</td>\n",
       "      <td>71537.000000</td>\n",
       "    </tr>\n",
       "    <tr>\n",
       "      <th>mean</th>\n",
       "      <td>0.510351</td>\n",
       "      <td>3292.722116</td>\n",
       "    </tr>\n",
       "    <tr>\n",
       "      <th>std</th>\n",
       "      <td>0.499896</td>\n",
       "      <td>3738.194002</td>\n",
       "    </tr>\n",
       "    <tr>\n",
       "      <th>min</th>\n",
       "      <td>0.000000</td>\n",
       "      <td>1.000000</td>\n",
       "    </tr>\n",
       "    <tr>\n",
       "      <th>25%</th>\n",
       "      <td>0.000000</td>\n",
       "      <td>1410.000000</td>\n",
       "    </tr>\n",
       "    <tr>\n",
       "      <th>50%</th>\n",
       "      <td>1.000000</td>\n",
       "      <td>2440.000000</td>\n",
       "    </tr>\n",
       "    <tr>\n",
       "      <th>75%</th>\n",
       "      <td>1.000000</td>\n",
       "      <td>4077.000000</td>\n",
       "    </tr>\n",
       "    <tr>\n",
       "      <th>max</th>\n",
       "      <td>1.000000</td>\n",
       "      <td>142961.000000</td>\n",
       "    </tr>\n",
       "  </tbody>\n",
       "</table>\n",
       "</div>"
      ],
      "text/plain": [
       "              label  raw_text_length\n",
       "count  71537.000000     71537.000000\n",
       "mean       0.510351      3292.722116\n",
       "std        0.499896      3738.194002\n",
       "min        0.000000         1.000000\n",
       "25%        0.000000      1410.000000\n",
       "50%        1.000000      2440.000000\n",
       "75%        1.000000      4077.000000\n",
       "max        1.000000    142961.000000"
      ]
     },
     "execution_count": 13,
     "metadata": {},
     "output_type": "execute_result"
    }
   ],
   "source": [
    "df.describe()"
   ]
  },
  {
   "cell_type": "code",
   "execution_count": 14,
   "id": "d199a7dd",
   "metadata": {},
   "outputs": [
    {
     "data": {
      "image/png": "[encoded data removed]",
      "text/plain": [
       "<Figure size 600x600 with 1 Axes>"
      ]
     },
     "metadata": {},
     "output_type": "display_data"
    }
   ],
   "source": [
    "#checking for outliers\n",
    "sns.boxplot(y='raw_text_length', data=df, palette=\"Set3\")\n",
    "plt.show()"
   ]
  },
  {
   "cell_type": "code",
   "execution_count": 15,
   "id": "bd08dec1",
   "metadata": {},
   "outputs": [
    {
     "data": {
      "image/png": "[encoded data removed]",
      "text/plain": [
       "<Figure size 600x600 with 1 Axes>"
      ]
     },
     "metadata": {},
     "output_type": "display_data"
    }
   ],
   "source": [
    "#checking for outliers wit respect to label\n",
    "sns.boxplot(y='raw_text_length', x='label', data=df, palette=\"Set3\")\n",
    "plt.title(\"Boxplot of the length of characters in Fake and Genuine Articles\")\n",
    "plt.show()"
   ]
  },
  {
   "cell_type": "code",
   "execution_count": 16,
   "id": "e519c2b9",
   "metadata": {},
   "outputs": [
    {
     "data": {
      "text/plain": [
       "count     71537.000000\n",
       "mean       3292.722116\n",
       "std        3738.194002\n",
       "min           1.000000\n",
       "25%        1410.000000\n",
       "50%        2440.000000\n",
       "75%        4077.000000\n",
       "max      142961.000000\n",
       "Name: raw_text_length, dtype: float64"
      ]
     },
     "execution_count": 16,
     "metadata": {},
     "output_type": "execute_result"
    }
   ],
   "source": [
    "df['raw_text_length'].describe()"
   ]
  },
  {
   "cell_type": "code",
   "execution_count": 17,
   "id": "8c6e2e78",
   "metadata": {},
   "outputs": [
    {
     "data": {
      "text/html": [
       "<div>\n",
       "<style scoped>\n",
       "    .dataframe tbody tr th:only-of-type {\n",
       "        vertical-align: middle;\n",
       "    }\n",
       "\n",
       "    .dataframe tbody tr th {\n",
       "        vertical-align: top;\n",
       "    }\n",
       "\n",
       "    .dataframe thead th {\n",
       "        text-align: right;\n",
       "    }\n",
       "</style>\n",
       "<table border=\"1\" class=\"dataframe\">\n",
       "  <thead>\n",
       "    <tr style=\"text-align: right;\">\n",
       "      <th></th>\n",
       "      <th>title</th>\n",
       "      <th>text</th>\n",
       "      <th>label</th>\n",
       "      <th>raw_text_length</th>\n",
       "    </tr>\n",
       "  </thead>\n",
       "  <tbody>\n",
       "    <tr>\n",
       "      <th>7</th>\n",
       "      <td>HOUSE INTEL CHAIR On Trump-Russia Fake Story: ...</td>\n",
       "      <td></td>\n",
       "      <td>1</td>\n",
       "      <td>1</td>\n",
       "    </tr>\n",
       "    <tr>\n",
       "      <th>106</th>\n",
       "      <td>MARKETWATCH LEFTIST: MSM’s “Blatant” Anti Trum...</td>\n",
       "      <td></td>\n",
       "      <td>1</td>\n",
       "      <td>1</td>\n",
       "    </tr>\n",
       "    <tr>\n",
       "      <th>325</th>\n",
       "      <td>Ohio State University Student Says Terrorist A...</td>\n",
       "      <td></td>\n",
       "      <td>1</td>\n",
       "      <td>1</td>\n",
       "    </tr>\n",
       "    <tr>\n",
       "      <th>364</th>\n",
       "      <td>JULIAN ASSANGE REVEALS John Podesta’s Hilariou...</td>\n",
       "      <td></td>\n",
       "      <td>1</td>\n",
       "      <td>1</td>\n",
       "    </tr>\n",
       "    <tr>\n",
       "      <th>512</th>\n",
       "      <td>OBAMA’S LIST OF 21 MEDAL OF FREEDOM Recipients...</td>\n",
       "      <td></td>\n",
       "      <td>1</td>\n",
       "      <td>1</td>\n",
       "    </tr>\n",
       "    <tr>\n",
       "      <th>...</th>\n",
       "      <td>...</td>\n",
       "      <td>...</td>\n",
       "      <td>...</td>\n",
       "      <td>...</td>\n",
       "    </tr>\n",
       "    <tr>\n",
       "      <th>71771</th>\n",
       "      <td>WOW! JILL STEIN’S ‘FIRESIDE CHAT’ Exposes Her ...</td>\n",
       "      <td></td>\n",
       "      <td>1</td>\n",
       "      <td>1</td>\n",
       "    </tr>\n",
       "    <tr>\n",
       "      <th>71914</th>\n",
       "      <td>WATCH TUCKER CARLSON Scorch Sanctuary City May...</td>\n",
       "      <td></td>\n",
       "      <td>1</td>\n",
       "      <td>1</td>\n",
       "    </tr>\n",
       "    <tr>\n",
       "      <th>72026</th>\n",
       "      <td>BOOM! Woman Tries To Steal TRUMP Signs BUT Thi...</td>\n",
       "      <td></td>\n",
       "      <td>1</td>\n",
       "      <td>1</td>\n",
       "    </tr>\n",
       "    <tr>\n",
       "      <th>72119</th>\n",
       "      <td>BILL O’REILLY Destroys Liberal Pundit On Trump...</td>\n",
       "      <td></td>\n",
       "      <td>1</td>\n",
       "      <td>1</td>\n",
       "    </tr>\n",
       "    <tr>\n",
       "      <th>72125</th>\n",
       "      <td>WOW! JILL STEIN’S ‘FIRESIDE CHAT’ Exposes Her ...</td>\n",
       "      <td></td>\n",
       "      <td>1</td>\n",
       "      <td>1</td>\n",
       "    </tr>\n",
       "  </tbody>\n",
       "</table>\n",
       "<p>739 rows × 4 columns</p>\n",
       "</div>"
      ],
      "text/plain": [
       "                                                   title text  label  \\\n",
       "7      HOUSE INTEL CHAIR On Trump-Russia Fake Story: ...           1   \n",
       "106    MARKETWATCH LEFTIST: MSM’s “Blatant” Anti Trum...           1   \n",
       "325    Ohio State University Student Says Terrorist A...           1   \n",
       "364    JULIAN ASSANGE REVEALS John Podesta’s Hilariou...           1   \n",
       "512    OBAMA’S LIST OF 21 MEDAL OF FREEDOM Recipients...           1   \n",
       "...                                                  ...  ...    ...   \n",
       "71771  WOW! JILL STEIN’S ‘FIRESIDE CHAT’ Exposes Her ...           1   \n",
       "71914  WATCH TUCKER CARLSON Scorch Sanctuary City May...           1   \n",
       "72026  BOOM! Woman Tries To Steal TRUMP Signs BUT Thi...           1   \n",
       "72119  BILL O’REILLY Destroys Liberal Pundit On Trump...           1   \n",
       "72125  WOW! JILL STEIN’S ‘FIRESIDE CHAT’ Exposes Her ...           1   \n",
       "\n",
       "       raw_text_length  \n",
       "7                    1  \n",
       "106                  1  \n",
       "325                  1  \n",
       "364                  1  \n",
       "512                  1  \n",
       "...                ...  \n",
       "71771                1  \n",
       "71914                1  \n",
       "72026                1  \n",
       "72119                1  \n",
       "72125                1  \n",
       "\n",
       "[739 rows x 4 columns]"
      ]
     },
     "execution_count": 17,
     "metadata": {},
     "output_type": "execute_result"
    }
   ],
   "source": [
    "df[df['raw_text_length']==1]"
   ]
  },
  {
   "cell_type": "code",
   "execution_count": 18,
   "id": "9a076a3b",
   "metadata": {},
   "outputs": [],
   "source": [
    "df['text'] = df['text'].str.strip()"
   ]
  },
  {
   "cell_type": "code",
   "execution_count": 19,
   "id": "b0969ce5",
   "metadata": {},
   "outputs": [],
   "source": [
    "df['raw_text_length'] = df['text'].apply(lambda x: len(x))"
   ]
  },
  {
   "cell_type": "code",
   "execution_count": 20,
   "id": "1a960809",
   "metadata": {},
   "outputs": [
    {
     "data": {
      "text/plain": [
       "744"
      ]
     },
     "execution_count": 20,
     "metadata": {},
     "output_type": "execute_result"
    }
   ],
   "source": [
    "len(df[df['raw_text_length']==0])"
   ]
  },
  {
   "cell_type": "code",
   "execution_count": 21,
   "id": "f4ed6ea6",
   "metadata": {},
   "outputs": [
    {
     "data": {
      "text/plain": [
       "(52440, 4)"
      ]
     },
     "execution_count": 21,
     "metadata": {},
     "output_type": "execute_result"
    }
   ],
   "source": [
    "df = df[(df['raw_text_length'] > 500) & (df[\"raw_text_length\"] < 5000)]\n",
    "df.shape"
   ]
  },
  {
   "cell_type": "code",
   "execution_count": 22,
   "id": "f9286e99",
   "metadata": {},
   "outputs": [
    {
     "data": {
      "text/plain": [
       "count    52440.000000\n",
       "mean      2363.217220\n",
       "std       1125.758262\n",
       "min        501.000000\n",
       "25%       1515.000000\n",
       "50%       2260.000000\n",
       "75%       3088.000000\n",
       "max       4999.000000\n",
       "Name: raw_text_length, dtype: float64"
      ]
     },
     "execution_count": 22,
     "metadata": {},
     "output_type": "execute_result"
    }
   ],
   "source": [
    "df['raw_text_length'].describe()"
   ]
  },
  {
   "cell_type": "code",
   "execution_count": 23,
   "id": "8e43bafe",
   "metadata": {},
   "outputs": [
    {
     "data": {
      "text/html": [
       "<div>\n",
       "<style scoped>\n",
       "    .dataframe tbody tr th:only-of-type {\n",
       "        vertical-align: middle;\n",
       "    }\n",
       "\n",
       "    .dataframe tbody tr th {\n",
       "        vertical-align: top;\n",
       "    }\n",
       "\n",
       "    .dataframe thead th {\n",
       "        text-align: right;\n",
       "    }\n",
       "</style>\n",
       "<table border=\"1\" class=\"dataframe\">\n",
       "  <thead>\n",
       "    <tr style=\"text-align: right;\">\n",
       "      <th></th>\n",
       "      <th>title</th>\n",
       "      <th>text</th>\n",
       "      <th>label</th>\n",
       "      <th>raw_text_length</th>\n",
       "    </tr>\n",
       "  </thead>\n",
       "  <tbody>\n",
       "    <tr>\n",
       "      <th>4</th>\n",
       "      <td>SATAN 2: Russia unvelis an image of its terrif...</td>\n",
       "      <td>The RS-28 Sarmat missile, dubbed Satan 2, will...</td>\n",
       "      <td>1</td>\n",
       "      <td>1916</td>\n",
       "    </tr>\n",
       "    <tr>\n",
       "      <th>5</th>\n",
       "      <td>About Time! Christian Group Sues Amazon and SP...</td>\n",
       "      <td>All we can say on this one is it s about time ...</td>\n",
       "      <td>1</td>\n",
       "      <td>1530</td>\n",
       "    </tr>\n",
       "    <tr>\n",
       "      <th>8</th>\n",
       "      <td>Sports Bar Owner Bans NFL Games…Will Show Only...</td>\n",
       "      <td>The owner of the Ringling Bar, located south o...</td>\n",
       "      <td>1</td>\n",
       "      <td>1439</td>\n",
       "    </tr>\n",
       "    <tr>\n",
       "      <th>9</th>\n",
       "      <td>Latest Pipeline Leak Underscores Dangers Of Da...</td>\n",
       "      <td>FILE – In this Sept. 15, 2005 file photo, the ...</td>\n",
       "      <td>1</td>\n",
       "      <td>3007</td>\n",
       "    </tr>\n",
       "    <tr>\n",
       "      <th>10</th>\n",
       "      <td>GOP Senator Just Smacked Down The Most Puncha...</td>\n",
       "      <td>The most punchable Alt-Right Nazi on the inter...</td>\n",
       "      <td>1</td>\n",
       "      <td>4679</td>\n",
       "    </tr>\n",
       "  </tbody>\n",
       "</table>\n",
       "</div>"
      ],
      "text/plain": [
       "                                                title  \\\n",
       "4   SATAN 2: Russia unvelis an image of its terrif...   \n",
       "5   About Time! Christian Group Sues Amazon and SP...   \n",
       "8   Sports Bar Owner Bans NFL Games…Will Show Only...   \n",
       "9   Latest Pipeline Leak Underscores Dangers Of Da...   \n",
       "10   GOP Senator Just Smacked Down The Most Puncha...   \n",
       "\n",
       "                                                 text  label  raw_text_length  \n",
       "4   The RS-28 Sarmat missile, dubbed Satan 2, will...      1             1916  \n",
       "5   All we can say on this one is it s about time ...      1             1530  \n",
       "8   The owner of the Ringling Bar, located south o...      1             1439  \n",
       "9   FILE – In this Sept. 15, 2005 file photo, the ...      1             3007  \n",
       "10  The most punchable Alt-Right Nazi on the inter...      1             4679  "
      ]
     },
     "execution_count": 23,
     "metadata": {},
     "output_type": "execute_result"
    }
   ],
   "source": [
    "df.head()"
   ]
  },
  {
   "cell_type": "code",
   "execution_count": 24,
   "id": "c919021f",
   "metadata": {},
   "outputs": [
    {
     "data": {
      "text/html": [
       "<div>\n",
       "<style scoped>\n",
       "    .dataframe tbody tr th:only-of-type {\n",
       "        vertical-align: middle;\n",
       "    }\n",
       "\n",
       "    .dataframe tbody tr th {\n",
       "        vertical-align: top;\n",
       "    }\n",
       "\n",
       "    .dataframe thead th {\n",
       "        text-align: right;\n",
       "    }\n",
       "</style>\n",
       "<table border=\"1\" class=\"dataframe\">\n",
       "  <thead>\n",
       "    <tr style=\"text-align: right;\">\n",
       "      <th></th>\n",
       "      <th>title</th>\n",
       "      <th>text</th>\n",
       "      <th>label</th>\n",
       "      <th>raw_text_length</th>\n",
       "    </tr>\n",
       "  </thead>\n",
       "  <tbody>\n",
       "    <tr>\n",
       "      <th>count</th>\n",
       "      <td>52440</td>\n",
       "      <td>52440</td>\n",
       "      <td>52440.000000</td>\n",
       "      <td>52440.000000</td>\n",
       "    </tr>\n",
       "    <tr>\n",
       "      <th>unique</th>\n",
       "      <td>45918</td>\n",
       "      <td>46232</td>\n",
       "      <td>NaN</td>\n",
       "      <td>NaN</td>\n",
       "    </tr>\n",
       "    <tr>\n",
       "      <th>top</th>\n",
       "      <td>Highlights: The Trump presidency on April 13 a...</td>\n",
       "      <td>Leave a Reply Click here to get more info on f...</td>\n",
       "      <td>NaN</td>\n",
       "      <td>NaN</td>\n",
       "    </tr>\n",
       "    <tr>\n",
       "      <th>freq</th>\n",
       "      <td>8</td>\n",
       "      <td>38</td>\n",
       "      <td>NaN</td>\n",
       "      <td>NaN</td>\n",
       "    </tr>\n",
       "    <tr>\n",
       "      <th>mean</th>\n",
       "      <td>NaN</td>\n",
       "      <td>NaN</td>\n",
       "      <td>0.532971</td>\n",
       "      <td>2363.217220</td>\n",
       "    </tr>\n",
       "    <tr>\n",
       "      <th>std</th>\n",
       "      <td>NaN</td>\n",
       "      <td>NaN</td>\n",
       "      <td>0.498916</td>\n",
       "      <td>1125.758262</td>\n",
       "    </tr>\n",
       "    <tr>\n",
       "      <th>min</th>\n",
       "      <td>NaN</td>\n",
       "      <td>NaN</td>\n",
       "      <td>0.000000</td>\n",
       "      <td>501.000000</td>\n",
       "    </tr>\n",
       "    <tr>\n",
       "      <th>25%</th>\n",
       "      <td>NaN</td>\n",
       "      <td>NaN</td>\n",
       "      <td>0.000000</td>\n",
       "      <td>1515.000000</td>\n",
       "    </tr>\n",
       "    <tr>\n",
       "      <th>50%</th>\n",
       "      <td>NaN</td>\n",
       "      <td>NaN</td>\n",
       "      <td>1.000000</td>\n",
       "      <td>2260.000000</td>\n",
       "    </tr>\n",
       "    <tr>\n",
       "      <th>75%</th>\n",
       "      <td>NaN</td>\n",
       "      <td>NaN</td>\n",
       "      <td>1.000000</td>\n",
       "      <td>3088.000000</td>\n",
       "    </tr>\n",
       "    <tr>\n",
       "      <th>max</th>\n",
       "      <td>NaN</td>\n",
       "      <td>NaN</td>\n",
       "      <td>1.000000</td>\n",
       "      <td>4999.000000</td>\n",
       "    </tr>\n",
       "  </tbody>\n",
       "</table>\n",
       "</div>"
      ],
      "text/plain": [
       "                                                    title  \\\n",
       "count                                               52440   \n",
       "unique                                              45918   \n",
       "top     Highlights: The Trump presidency on April 13 a...   \n",
       "freq                                                    8   \n",
       "mean                                                  NaN   \n",
       "std                                                   NaN   \n",
       "min                                                   NaN   \n",
       "25%                                                   NaN   \n",
       "50%                                                   NaN   \n",
       "75%                                                   NaN   \n",
       "max                                                   NaN   \n",
       "\n",
       "                                                     text         label  \\\n",
       "count                                               52440  52440.000000   \n",
       "unique                                              46232           NaN   \n",
       "top     Leave a Reply Click here to get more info on f...           NaN   \n",
       "freq                                                   38           NaN   \n",
       "mean                                                  NaN      0.532971   \n",
       "std                                                   NaN      0.498916   \n",
       "min                                                   NaN      0.000000   \n",
       "25%                                                   NaN      0.000000   \n",
       "50%                                                   NaN      1.000000   \n",
       "75%                                                   NaN      1.000000   \n",
       "max                                                   NaN      1.000000   \n",
       "\n",
       "        raw_text_length  \n",
       "count      52440.000000  \n",
       "unique              NaN  \n",
       "top                 NaN  \n",
       "freq                NaN  \n",
       "mean        2363.217220  \n",
       "std         1125.758262  \n",
       "min          501.000000  \n",
       "25%         1515.000000  \n",
       "50%         2260.000000  \n",
       "75%         3088.000000  \n",
       "max         4999.000000  "
      ]
     },
     "execution_count": 24,
     "metadata": {},
     "output_type": "execute_result"
    }
   ],
   "source": [
    "df.describe(include='all')"
   ]
  },
  {
   "cell_type": "markdown",
   "id": "9bf6307b",
   "metadata": {},
   "source": [
    "## Text Cleaning\n",
    "\n",
    "1. Remove special characters\n",
    "2. Expand contractions\n",
    "3. Convert to lower-case\n",
    "4. Word Tokenize\n",
    "5. Remove Stopwords"
   ]
  },
  {
   "cell_type": "code",
   "execution_count": 25,
   "id": "83b0fd04",
   "metadata": {},
   "outputs": [],
   "source": [
    "def preprocess_text(x):\n",
    "    cleaned_text = re.sub(r'[^a-zA-Z\\d\\s\\']+', '', x)\n",
    "    word_list = []\n",
    "    for each_word in cleaned_text.split(' '):\n",
    "        try:\n",
    "            word_list.append(contractions.fix(each_word).lower())\n",
    "        except:\n",
    "            print(x)\n",
    "    return \" \".join(word_list)"
   ]
  },
  {
   "cell_type": "code",
   "execution_count": 26,
   "id": "ff5c9d43",
   "metadata": {},
   "outputs": [],
   "source": [
    "text_cols = ['title' , 'text']"
   ]
  },
  {
   "cell_type": "code",
   "execution_count": null,
   "id": "24e0b261",
   "metadata": {},
   "outputs": [
    {
     "name": "stdout",
     "output_type": "stream",
     "text": [
      "Processing column: title\n",
      "Processing column: text\n"
     ]
    }
   ],
   "source": [
    "for col in text_cols:\n",
    "    print(\"Processing column: {}\".format(col))\n",
    "    df[col] = df[col].apply(lambda x: preprocess_text(x))"
   ]
  },
  {
   "cell_type": "code",
   "execution_count": null,
   "id": "5d4c5323",
   "metadata": {},
   "outputs": [],
   "source": [
    "for col in text_cols:\n",
    "    print(\"Processing column: {}\".format(col))\n",
    "    df[col] = df[col].apply(word_tokenize)"
   ]
  },
  {
   "cell_type": "code",
   "execution_count": null,
   "id": "d1294699",
   "metadata": {},
   "outputs": [],
   "source": [
    "for col in text_cols:\n",
    "    print(\"Processing column: {}\".format(col))\n",
    "    df[col] = df[col].apply(\n",
    "        lambda x: [each_word for each_word in x if each_word not in stopwords])"
   ]
  },
  {
   "cell_type": "code",
   "execution_count": null,
   "id": "697c933b",
   "metadata": {},
   "outputs": [],
   "source": [
    "df.head()"
   ]
  },
  {
   "cell_type": "code",
   "execution_count": null,
   "id": "b3f54ab0",
   "metadata": {},
   "outputs": [],
   "source": [
    "# since count vectorizer expects strings\n",
    "\n",
    "df['text_joined'] = df['text'].apply(lambda x: \" \".join(x))"
   ]
  },
  {
   "cell_type": "code",
   "execution_count": null,
   "id": "94486adb",
   "metadata": {},
   "outputs": [],
   "source": [
    "df.head()"
   ]
  },
  {
   "cell_type": "code",
   "execution_count": null,
   "id": "1d5e97fe",
   "metadata": {},
   "outputs": [],
   "source": [
    "# iterate through the csv file\n",
    "all_texts_gen = \" \".join(df[df['label']==1]['text_joined'])\n",
    "all_texts_fake = \" \".join(df[df['label']==0]['text_joined'])"
   ]
  },
  {
   "cell_type": "code",
   "execution_count": null,
   "id": "c824020a",
   "metadata": {},
   "outputs": [],
   "source": [
    "wordcloud = WordCloud(width = 800, height = 800,\n",
    "                background_color ='white',\n",
    "                stopwords = stopwords,\n",
    "                min_font_size = 10).generate(all_texts_gen)\n",
    "plt.imshow(wordcloud)\n",
    "plt.axis(\"off\")\n",
    "plt.tight_layout(pad = 0)\n",
    "plt.title(\"Genuine News\")\n",
    "plt.show()"
   ]
  },
  {
   "cell_type": "code",
   "execution_count": null,
   "id": "4056d3e5",
   "metadata": {},
   "outputs": [],
   "source": [
    "wordcloud = WordCloud(width = 800, height = 800,\n",
    "                background_color ='white',\n",
    "                stopwords = stopwords,\n",
    "                min_font_size = 10).generate(all_texts_fake)\n",
    "plt.imshow(wordcloud)\n",
    "plt.axis(\"off\")\n",
    "plt.tight_layout(pad = 0)\n",
    "plt.title(\"Fake News\")\n",
    "plt.show()"
   ]
  },
  {
   "cell_type": "code",
   "execution_count": null,
   "id": "83f5b9f8",
   "metadata": {},
   "outputs": [],
   "source": [
    "count_vectorizer = CountVectorizer(max_features=300,ngram_range=(1, 2))\n",
    "tf_idf_transformer = TfidfTransformer(smooth_idf=False)\n",
    "\n",
    "# fit train data to count vectorizer\n",
    "count_vectorizer.fit(df['text_joined'].values)\n",
    "count_vect_train = count_vectorizer.transform(df['text_joined'].values)\n",
    "\n",
    "# fit ngrams count to tfidf transformers\n",
    "tf_idf_transformer.fit(count_vect_train)\n",
    "tf_idf_train = tf_idf_transformer.transform(count_vect_train)"
   ]
  },
  {
   "cell_type": "code",
   "execution_count": null,
   "id": "47863641",
   "metadata": {},
   "outputs": [],
   "source": [
    "target = df[\"label\"].values\n",
    "X_train, X_test, y_train, y_test = train_test_split(tf_idf_train, target , random_state=0)"
   ]
  },
  {
   "cell_type": "code",
   "execution_count": null,
   "id": "1471afba",
   "metadata": {},
   "outputs": [],
   "source": [
    "df_perf_metrics = pd.DataFrame(columns=['Model', 'Accuracy_Training_Set', 'Accuracy_Test_Set', 'Precision', 'Recall', 'f1_score'])"
   ]
  },
  {
   "cell_type": "code",
   "execution_count": null,
   "id": "ef91ca6d",
   "metadata": {},
   "outputs": [],
   "source": [
    "df_perf_metrics = pd.DataFrame(columns=[\n",
    "    'Model', 'Accuracy_Training_Set', 'Accuracy_Test_Set', 'Precision',\n",
    "    'Recall', 'f1_score', 'Training Time (secs'\n",
    "])\n",
    "models_trained_list = []\n",
    "\n",
    "\n",
    "def get_perf_metrics(model, i):\n",
    "    # model name\n",
    "    model_name = type(model).__name__\n",
    "    # time keeping\n",
    "    start_time = time.time()\n",
    "    print(\"Training {} model...\".format(model_name))\n",
    "    # Fitting of model\n",
    "    model.fit(X_train, y_train)\n",
    "    print(\"Completed {} model training.\".format(model_name))\n",
    "    elapsed_time = time.time() - start_time\n",
    "    # Time Elapsed\n",
    "    print(\"Time elapsed: {:.2f} s.\".format(elapsed_time))\n",
    "    # Predictions\n",
    "    y_pred = model.predict(X_test)\n",
    "    # Add to ith row of dataframe - metrics\n",
    "    df_perf_metrics.loc[i] = [\n",
    "        model_name,\n",
    "        model.score(X_train, y_train),\n",
    "        model.score(X_test, y_test),\n",
    "        precision_score(y_test, y_pred),\n",
    "        recall_score(y_test, y_pred),\n",
    "        f1_score(y_test, y_pred), \"{:.2f}\".format(elapsed_time)\n",
    "    ]\n",
    "    # keep a track of trained models\n",
    "    models_trained_list.append(model)\n",
    "    print(\"Completed {} model's performance assessment.\".format(model_name))"
   ]
  },
  {
   "cell_type": "code",
   "execution_count": null,
   "id": "599705d2",
   "metadata": {},
   "outputs": [],
   "source": [
    "models_list = [LogisticRegression(),\n",
    "               MultinomialNB(),\n",
    "               RandomForestClassifier(),\n",
    "               DecisionTreeClassifier(),\n",
    "               GradientBoostingClassifier(),\n",
    "               AdaBoostClassifier()]"
   ]
  },
  {
   "cell_type": "code",
   "execution_count": null,
   "id": "40b925e3",
   "metadata": {},
   "outputs": [],
   "source": [
    "for n, model in enumerate(models_list):\n",
    "    get_perf_metrics(model, n)"
   ]
  },
  {
   "cell_type": "code",
   "execution_count": null,
   "id": "9902b400",
   "metadata": {},
   "outputs": [],
   "source": [
    "df_perf_metrics"
   ]
  },
  {
   "cell_type": "code",
   "execution_count": null,
   "id": "9978e40d",
   "metadata": {},
   "outputs": [],
   "source": [
    "RF = RandomForestClassifier(random_state=121)\n",
    "RF.fit(X_train,y_train)"
   ]
  },
  {
   "cell_type": "code",
   "execution_count": null,
   "id": "a8949e76",
   "metadata": {},
   "outputs": [],
   "source": []
  },
  {
   "cell_type": "code",
   "execution_count": null,
   "id": "f645a5bd",
   "metadata": {},
   "outputs": [],
   "source": []
  },
  {
   "cell_type": "code",
   "execution_count": null,
   "id": "727b0e43",
   "metadata": {},
   "outputs": [],
   "source": [
    "def output_lable(n):\n",
    "    if n == 0:\n",
    "        return \"Fake News\"\n",
    "    elif n == 1:\n",
    "        return \"Not A Fake News\"\n",
    "\n",
    "\n",
    "def manual_testing(news):\n",
    "    testing_news = {\"text\": [news]}\n",
    "    new_def_test = pd.DataFrame(testing_news)\n",
    "    new_def_test[\"text\"] = new_def_test[\"text\"].apply(preprocess_text)\n",
    "    new_x_test = new_def_test[\"text\"]\n",
    "    new_xv_test = count_vectorizer.fit_transform(new_x_test)\n",
    "    new_xvw_test = tf_idf_transformer.fit_transform(new_xv_test)\n",
    "    pred_LR = RF.predict(new_xvw_test)\n",
    "\n",
    "    return print(\"\\n\\nLR Prediction: \",output_lable(pred_LR[0]))"
   ]
  },
  {
   "cell_type": "code",
   "execution_count": null,
   "id": "afef10a8",
   "metadata": {},
   "outputs": [],
   "source": [
    "news = str(input())\n",
    "manual_testing(news)"
   ]
  },
  {
   "cell_type": "code",
   "execution_count": null,
   "id": "4fd0fe87",
   "metadata": {},
   "outputs": [],
   "source": [
    "news = str(input())\n",
    "manual_testing(news)"
   ]
  },
  {
   "cell_type": "code",
   "execution_count": null,
   "id": "5d0414b2",
   "metadata": {},
   "outputs": [],
   "source": [
    "testing_news = {\"text\": [news]}\n",
    "new_def_test = pd.DataFrame(testing_news)\n",
    "new_def_test[\"text\"] = new_def_test[\"text\"].apply(preprocess_text)\n",
    "new_x_test = new_def_test[\"text\"]\n",
    "new_xv_test = count_vectorizer.fit_transform(new_x_test)\n",
    "pred_LR = RF.predict(new_xv_test)"
   ]
  },
  {
   "cell_type": "code",
   "execution_count": null,
   "id": "d7eb35f9",
   "metadata": {},
   "outputs": [],
   "source": [
    "RF.predict([])"
   ]
  },
  {
   "cell_type": "code",
   "execution_count": null,
   "id": "00ce45d1",
   "metadata": {},
   "outputs": [],
   "source": [
    "df.text_joined[8]"
   ]
  },
  {
   "cell_type": "code",
   "execution_count": null,
   "id": "786fc29b",
   "metadata": {},
   "outputs": [],
   "source": []
  }
 ],
 "metadata": {
  "kernelspec": {
   "display_name": "Python 3 (ipykernel)",
   "language": "python",
   "name": "python3"
  },
  "language_info": {
   "codemirror_mode": {
    "name": "ipython",
    "version": 3
   },
   "file_extension": ".py",
   "mimetype": "text/x-python",
   "name": "python",
   "nbconvert_exporter": "python",
   "pygments_lexer": "ipython3",
   "version": "3.11.3"
  }
 },
 "nbformat": 4,
 "nbformat_minor": 5
}
